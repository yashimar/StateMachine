{
 "cells": [
  {
   "cell_type": "code",
   "execution_count": 1,
   "metadata": {
    "ExecuteTime": {
     "end_time": "2020-05-20T00:14:58.682688Z",
     "start_time": "2020-05-20T00:14:58.674693Z"
    }
   },
   "outputs": [],
   "source": [
    "import sys\n",
    "sys.path.append(\"../../modules_HKlab/\")\n",
    "from state_machine import *\n",
    "\n",
    "import time"
   ]
  },
  {
   "cell_type": "code",
   "execution_count": 2,
   "metadata": {
    "ExecuteTime": {
     "end_time": "2020-05-20T00:14:59.140520Z",
     "start_time": "2020-05-20T00:14:59.129526Z"
    }
   },
   "outputs": [],
   "source": [
    "class Asker():\n",
    "    def __init__(self):\n",
    "        self.flags = {\"y\": False, \"n\": False, \"q\": False}\n",
    "        \n",
    "    def ask(self):\n",
    "        print(\"Want to move ?\")\n",
    "        ans = input(\"  (y|n|q)  > \")\n",
    "        if ans==\"y\" or ans==\"Y\": self.flags[\"y\"]=True\n",
    "        elif ans==\"n\" or ans==\"N\": self.flags[\"n\"]=True\n",
    "        elif ans==\"q\" or ans==\"Q\": self.flags[\"q\"]=True\n",
    "        else: self.ask()\n",
    "            \n",
    "    def __getitem__(self, key):\n",
    "        return self.flags[key]\n",
    "    \n",
    "def MakeAsker():\n",
    "    global asker\n",
    "    asker = Asker()\n",
    "    return asker\n",
    "\n",
    "def GetStartTime():\n",
    "    global start_time\n",
    "    start_time = int(time.time())"
   ]
  },
  {
   "cell_type": "code",
   "execution_count": 3,
   "metadata": {
    "ExecuteTime": {
     "end_time": "2020-05-20T00:15:01.917547Z",
     "start_time": "2020-05-20T00:14:59.909922Z"
    }
   },
   "outputs": [
    {
     "name": "stdout",
     "output_type": "stream",
     "text": [
      "Want to move ?\n",
      "  (y|n|q)  > q\n",
      "-->\n",
      "Quit state machine\n"
     ]
    }
   ],
   "source": [
    "start_time = 0\n",
    "\n",
    "sm = TStateMachine()\n",
    "\n",
    "sm.StartState = \"start\"\n",
    "sm[\"start\"] = TFSMState()\n",
    "sm[\"start\"].EntryAction = MakeAsker().ask()\n",
    "sm[\"start\"].NewAction()\n",
    "sm[\"start\"].Actions[-1].Condition = lambda: asker[\"y\"]\n",
    "sm[\"start\"].Actions[-1].NextState = \"count\"\n",
    "sm[\"start\"].NewAction()\n",
    "sm[\"start\"].Actions[-1].Condition = lambda: asker[\"q\"]\n",
    "sm[\"start\"].Actions[-1].NextState = \"quit\"\n",
    "sm[\"start\"].ElseAction.Condition = lambda: True\n",
    "sm[\"start\"].ElseAction.Action = lambda: print('Keep to stay in start')\n",
    "sm[\"start\"].ElseAction.NextState = \"start\"\n",
    "sm[\"start\"].ExitAction= lambda: (print('-->'), GetStartTime())\n",
    "\n",
    "sm['count']= TFSMState()\n",
    "sm['count'].EntryAction= lambda: Print('Counting...')\n",
    "sm['count'].NewAction()\n",
    "sm['count'].Actions[-1].Condition= lambda: (int(time.time())-start_time)>=3\n",
    "sm['count'].Actions[-1].Action= lambda: print('Hit!: '+str(int(time.time())-start_time))\n",
    "sm['count'].Actions[-1].NextState= 'stop'\n",
    "sm['count'].ElseAction.Condition= lambda: True\n",
    "sm['count'].ElseAction.Action= lambda: (print(str(int(time.time())-start_time)), time.sleep(0.2))\n",
    "sm['count'].ElseAction.NextState= 'count'\n",
    "\n",
    "sm['stop']= TFSMState()\n",
    "sm['stop'].EntryAction= lambda: print('Finishing state machine')\n",
    "sm['stop'].ElseAction.Condition= lambda: True\n",
    "sm['stop'].ElseAction.NextState= EXIT_STATE\n",
    "\n",
    "sm[\"quit\"] = TFSMState()\n",
    "sm[\"quit\"].EntryAction = lambda: print('Quit state machine')\n",
    "sm[\"quit\"].ElseAction.Condition = lambda: True\n",
    "sm[\"quit\"].ElseAction.NextState = EXIT_STATE\n",
    "\n",
    "sm.Run()"
   ]
  }
 ],
 "metadata": {
  "kernelspec": {
   "display_name": "Python 3",
   "language": "python",
   "name": "python3"
  },
  "language_info": {
   "codemirror_mode": {
    "name": "ipython",
    "version": 3
   },
   "file_extension": ".py",
   "mimetype": "text/x-python",
   "name": "python",
   "nbconvert_exporter": "python",
   "pygments_lexer": "ipython3",
   "version": "3.6.8"
  },
  "toc": {
   "base_numbering": 1,
   "nav_menu": {},
   "number_sections": true,
   "sideBar": true,
   "skip_h1_title": false,
   "title_cell": "Table of Contents",
   "title_sidebar": "Contents",
   "toc_cell": false,
   "toc_position": {},
   "toc_section_display": true,
   "toc_window_display": false
  },
  "varInspector": {
   "cols": {
    "lenName": 16,
    "lenType": 16,
    "lenVar": 40
   },
   "kernels_config": {
    "python": {
     "delete_cmd_postfix": "",
     "delete_cmd_prefix": "del ",
     "library": "var_list.py",
     "varRefreshCmd": "print(var_dic_list())"
    },
    "r": {
     "delete_cmd_postfix": ") ",
     "delete_cmd_prefix": "rm(",
     "library": "var_list.r",
     "varRefreshCmd": "cat(var_dic_list()) "
    }
   },
   "types_to_exclude": [
    "module",
    "function",
    "builtin_function_or_method",
    "instance",
    "_Feature"
   ],
   "window_display": false
  }
 },
 "nbformat": 4,
 "nbformat_minor": 2
}
