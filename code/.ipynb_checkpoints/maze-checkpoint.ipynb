{
 "cells": [
  {
   "cell_type": "markdown",
   "metadata": {},
   "source": [
    "# Setup"
   ]
  },
  {
   "cell_type": "code",
   "execution_count": 3,
   "metadata": {
    "ExecuteTime": {
     "end_time": "2020-05-20T03:27:54.749626Z",
     "start_time": "2020-05-20T03:27:54.256805Z"
    }
   },
   "outputs": [],
   "source": [
    "import numpy as np\n",
    "import matplotlib.pyplot as plt\n",
    "\n",
    "import sys\n",
    "sys.path.append(\"../../modules_HKlab/\")\n",
    "from state_machine import *"
   ]
  },
  {
   "cell_type": "markdown",
   "metadata": {},
   "source": [
    "# Maze"
   ]
  },
  {
   "cell_type": "code",
   "execution_count": 75,
   "metadata": {
    "ExecuteTime": {
     "end_time": "2020-05-20T04:42:28.505408Z",
     "start_time": "2020-05-20T04:42:28.492415Z"
    }
   },
   "outputs": [],
   "source": [
    "class Maze():\n",
    "    def __init__(self, curr_x, curr_y, wall_ends, goal_x=2, goal_y=0, max_x=4, max_y=4):\n",
    "        self.curr_x = curr_x\n",
    "        self.curr_y = curr_y\n",
    "        self.goal_x = goal_x\n",
    "        self.goal_y = goal_y\n",
    "        self.max_x = max_x\n",
    "        self.max_y = max_y\n",
    "        self.wall_ends = wall_ends\n",
    "        \n",
    "    def detct_collision(self, add_x, add_y):\n",
    "        next_x = self.curr_x + add_x\n",
    "        next_y = self.curr_y + add_y\n",
    "        \n",
    "        \n",
    "    def plot(self, markersize=60):\n",
    "        fig = plt.figure(figsize=(5, 5))\n",
    "        ax = plt.gca()\n",
    "\n",
    "        for wall_end in self.wall_ends:\n",
    "            plt.plot(wall_end[0], wall_end[1], color='red', linewidth=2)\n",
    "\n",
    "        for i in range(self.max_x):\n",
    "            for j in range(self.max_y):\n",
    "                plt.text(i+0.5, j+0.5, f\"{j}{i}\", ha=\"center\")\n",
    "        plt.text(self.curr_x+0.5, self.curr_y+0.3, 'START', ha='center')\n",
    "        plt.text(self.goal_x+0.5, self.goal_y+0.3, 'GOAL', ha='center')\n",
    "\n",
    "        ax.set_xlim(0, self.max_x)\n",
    "        ax.set_ylim(0, self.max_y)\n",
    "        plt.tick_params(axis='both', which='both', bottom=False, top=False,\n",
    "                        labelbottom=False, right=False, left=False, labelleft=False)\n",
    "\n",
    "        line, = ax.plot([self.curr_x+0.5], [self.curr_y+0.5], marker=\"o\", color='g', markersize=markersize)\n",
    "        plt.show()"
   ]
  },
  {
   "cell_type": "code",
   "execution_count": 80,
   "metadata": {
    "ExecuteTime": {
     "end_time": "2020-05-20T05:09:53.241863Z",
     "start_time": "2020-05-20T05:09:53.005954Z"
    },
    "scrolled": true
   },
   "outputs": [
    {
     "data": {
      "image/png": "[encoded data removed]",
      "text/plain": [
       "<Figure size 360x360 with 1 Axes>"
      ]
     },
     "metadata": {},
     "output_type": "display_data"
    }
   ],
   "source": [
    "wall_ends = [[[1,1],[0,1]],[[1,2],[2,2]],[[2,2],[2,1]],[[3,2],[3,3]],[[3,3],[2,3]]]\n",
    "maze = Maze(curr_x=0, curr_y=3, wall_ends=wall_ends)\n",
    "maze.plot(markersize=40)"
   ]
  },
  {
   "cell_type": "markdown",
   "metadata": {},
   "source": [
    "# State Machine"
   ]
  },
  {
   "cell_type": "code",
   "execution_count": null,
   "metadata": {},
   "outputs": [],
   "source": []
  }
 ],
 "metadata": {
  "kernelspec": {
   "display_name": "Python 3",
   "language": "python",
   "name": "python3"
  },
  "language_info": {
   "codemirror_mode": {
    "name": "ipython",
    "version": 3
   },
   "file_extension": ".py",
   "mimetype": "text/x-python",
   "name": "python",
   "nbconvert_exporter": "python",
   "pygments_lexer": "ipython3",
   "version": "3.6.8"
  },
  "toc": {
   "base_numbering": 1,
   "nav_menu": {},
   "number_sections": true,
   "sideBar": true,
   "skip_h1_title": false,
   "title_cell": "Table of Contents",
   "title_sidebar": "Contents",
   "toc_cell": false,
   "toc_position": {},
   "toc_section_display": true,
   "toc_window_display": false
  },
  "varInspector": {
   "cols": {
    "lenName": 16,
    "lenType": 16,
    "lenVar": 40
   },
   "kernels_config": {
    "python": {
     "delete_cmd_postfix": "",
     "delete_cmd_prefix": "del ",
     "library": "var_list.py",
     "varRefreshCmd": "print(var_dic_list())"
    },
    "r": {
     "delete_cmd_postfix": ") ",
     "delete_cmd_prefix": "rm(",
     "library": "var_list.r",
     "varRefreshCmd": "cat(var_dic_list()) "
    }
   },
   "types_to_exclude": [
    "module",
    "function",
    "builtin_function_or_method",
    "instance",
    "_Feature"
   ],
   "window_display": false
  }
 },
 "nbformat": 4,
 "nbformat_minor": 2
}
