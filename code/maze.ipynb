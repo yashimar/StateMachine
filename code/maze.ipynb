{
 "cells": [
  {
   "cell_type": "markdown",
   "metadata": {},
   "source": [
    "# Setup"
   ]
  },
  {
   "cell_type": "code",
   "execution_count": 159,
   "metadata": {
    "ExecuteTime": {
     "end_time": "2020-05-21T06:05:52.651347Z",
     "start_time": "2020-05-21T06:05:52.645352Z"
    }
   },
   "outputs": [],
   "source": [
    "import numpy as np\n",
    "import matplotlib.pyplot as plt\n",
    "from collections import defaultdict\n",
    "\n",
    "import sys\n",
    "sys.path.append(\"../../modules_HKlab/\")\n",
    "from state_machine import *"
   ]
  },
  {
   "cell_type": "markdown",
   "metadata": {},
   "source": [
    "# Maze"
   ]
  },
  {
   "cell_type": "code",
   "execution_count": 248,
   "metadata": {
    "ExecuteTime": {
     "end_time": "2020-05-21T07:20:21.793480Z",
     "start_time": "2020-05-21T07:20:21.760991Z"
    }
   },
   "outputs": [],
   "source": [
    "class Maze():\n",
    "    def __init__(self, curr_x, curr_y, wall_ends, goal_x=2, goal_y=0, max_x=4, max_y=4):\n",
    "        self.curr_x = curr_x + 0.5\n",
    "        self.curr_y = curr_y + 0.5\n",
    "        self.init_x = self.curr_x\n",
    "        self.init_y = self.curr_y\n",
    "        self.goal_x = goal_x + 0.5\n",
    "        self.goal_y = goal_y + 0.5\n",
    "        self.max_x = max_x\n",
    "        self.max_y = max_y\n",
    "        self.wall_ends = wall_ends\n",
    "        \n",
    "    def set_position(self, curr_x, curr_y):\n",
    "        self.curr_x = curr_x + 0.5\n",
    "        self.curr_y = curr_y + 0.5\n",
    "        \n",
    "    def get_position(self):\n",
    "        return self.curr_x, self.curr_y\n",
    "    \n",
    "    def get_goal(self):\n",
    "        return self.goal_x, self.goal_y\n",
    "        \n",
    "    def move(self, direction, add, IsJump=False):\n",
    "        plus=1 if add>0 else -1\n",
    "        if IsJump==False:\n",
    "            for i in range(abs(add)):\n",
    "                if self.detect_collision(direction, plus)==0:\n",
    "                    if direction==\"h\": self.curr_x += plus\n",
    "                    elif direction==\"v\": self.curr_y += plus\n",
    "                else: continue\n",
    "        else:\n",
    "            for i in range(abs(add)):\n",
    "                if self.detect_collision(direction, plus)!=2:\n",
    "                    if direction==\"h\": self.curr_x += plus\n",
    "                    elif direction==\"v\": self.curr_y += plus\n",
    "                else: continue  \n",
    "        \n",
    "    def detect_parallel(self, wall_end):\n",
    "        if wall_end[0][0]==wall_end[1][0]: return \"h\"\n",
    "        elif wall_end[0][1]==wall_end[1][1]: return \"v\"\n",
    "        else: raise Exception\n",
    "        \n",
    "    def detect_collision(self, direction, add):\n",
    "        if direction==\"h\": next_x = self.curr_x + add ; next_y = self.curr_y\n",
    "        elif direction==\"v\": next_y = self.curr_y + add; next_x = self.curr_x\n",
    "        for wall_end in self.wall_ends:\n",
    "            wall_direction = self.detect_parallel(wall_end)\n",
    "            if direction!=wall_direction:              \n",
    "                if direction==\"h\": \n",
    "                    if ((wall_end[0][0]>wall_end[1][0]) and \n",
    "                    (wall_end[0][0]>self.curr_y) and (wall_end[1][0]<self.curr_y) and\n",
    "                    ((self.curr_x-wall_end[0][1])*(next_x-wall_end[0][1])<0)):\n",
    "                        return 1\n",
    "                    elif ((wall_end[0][0]<wall_end[1][0]) and \n",
    "                    (wall_end[0][0]<self.curr_y) and (wall_end[1][0]>self.curr_y) and\n",
    "                    ((self.curr_x-wall_end[0][1])*(next_x-wall_end[0][1])<0)):\n",
    "                        return 1\n",
    "                elif direction==\"v\": \n",
    "                    if ((wall_end[0][1]>wall_end[1][1]) and \n",
    "                    (wall_end[0][1]>self.curr_x) and (wall_end[1][1]<self.curr_x) and\n",
    "                    ((self.curr_y-wall_end[0][0])*(next_y-wall_end[0][0])<0)):\n",
    "                        return 1\n",
    "                    elif ((wall_end[0][1]<wall_end[1][1]) and \n",
    "                    (wall_end[0][1]<self.curr_x) and (wall_end[1][1]>self.curr_x) and\n",
    "                    ((self.curr_y-wall_end[0][0])*(next_y-wall_end[0][0])<0)):\n",
    "                        return 1\n",
    "        if (next_x<0 or next_x>self.max_x or next_y<0 or next_y>self.max_y): return 2\n",
    "            \n",
    "        return 0\n",
    "        \n",
    "    def plot(self, markersize=60):\n",
    "        fig = plt.figure(figsize=(5, 5))\n",
    "        ax = plt.gca()\n",
    "\n",
    "        for wall_end in self.wall_ends:\n",
    "            plt.plot(wall_end[0], wall_end[1], color='red', linewidth=2)\n",
    "\n",
    "        for i in range(self.max_x):\n",
    "            for j in range(self.max_y):\n",
    "                plt.text(i+0.5, j+0.5, f\"{j}{i}\", ha=\"center\")\n",
    "        plt.text(self.init_x, self.init_y-0.2, 'START', ha='center')\n",
    "        plt.text(self.goal_x, self.goal_y-0.2, 'GOAL', ha='center')\n",
    "\n",
    "        ax.set_xlim(0, self.max_x)\n",
    "        ax.set_ylim(0, self.max_y)\n",
    "        plt.tick_params(axis='both', which='both', bottom=False, top=False,\n",
    "                        labelbottom=False, right=False, left=False, labelleft=False)\n",
    "\n",
    "        line, = ax.plot([self.curr_x], [self.curr_y], marker=\"o\", color='g', markersize=markersize)\n",
    "        plt.show()"
   ]
  },
  {
   "cell_type": "code",
   "execution_count": 250,
   "metadata": {
    "ExecuteTime": {
     "end_time": "2020-05-21T07:20:43.489029Z",
     "start_time": "2020-05-21T07:20:43.257173Z"
    },
    "scrolled": true
   },
   "outputs": [
    {
     "data": {
      "image/png": "[encoded data removed]",
      "text/plain": [
       "<Figure size 360x360 with 1 Axes>"
      ]
     },
     "metadata": {},
     "output_type": "display_data"
    }
   ],
   "source": [
    "wall_ends = [[[1,1],[0,1]],[[1,2],[2,2]],[[2,2],[2,1]],[[3,2],[3,3]],[[3,3],[2,3]]]\n",
    "maze = Maze(curr_x=0, curr_y=3, wall_ends=wall_ends)\n",
    "maze.plot(markersize=40)\n",
    "# maze.move(\"h\", 2)\n",
    "# maze.plot(markersize=40)"
   ]
  },
  {
   "cell_type": "markdown",
   "metadata": {},
   "source": [
    "# State Machine"
   ]
  },
  {
   "cell_type": "code",
   "execution_count": 241,
   "metadata": {
    "ExecuteTime": {
     "end_time": "2020-05-21T07:16:43.828218Z",
     "start_time": "2020-05-21T07:16:43.817223Z"
    }
   },
   "outputs": [],
   "source": [
    "def SetupVariable(l):\n",
    "    wall_ends = [[[1,1],[0,1]],[[1,2],[2,2]],[[2,2],[2,1]],[[3,2],[3,3]],[[3,3],[2,3]]]\n",
    "    l[\"counter\"] = 0\n",
    "    l[\"IsReached\"] = False\n",
    "    l[\"flag\"] = 0\n",
    "    l[\"maze\"] = Maze(curr_x=0, curr_y=3, wall_ends=wall_ends)\n",
    "        \n",
    "def AskMQ(l):\n",
    "    while True:\n",
    "        ans = input(\"move or quit?\\n(y|q)  > \")\n",
    "        if ans==\"y\" or ans==\"Y\": l[\"flag\"]=\"y\"; break\n",
    "        elif ans==\"q\" or ans==\"Q\": l[\"flag\"]=\"q\"; break\n",
    "        else: print(\"Invalid input. ReInput.\")\n",
    "        \n",
    "def AskAction(l):\n",
    "    while True:\n",
    "        ans = input(\"jump one step(1)' or 'starate two step(2)'?\\nchoise action (1|2)  > \")\n",
    "        if ans==\"1\": l[\"flag\"]=\"1\"; break\n",
    "        elif ans==\"2\": l[\"flag\"]=\"2\"; break\n",
    "        else: print(\"Invalid input. ReInput.\")\n",
    "            \n",
    "def ShowCurrentState(l):\n",
    "    curr_state = l[\"maze\"].get_position()\n",
    "    goal = l[\"maze\"].get_goal()\n",
    "    print(f\"Current state is {curr_state}.\")\n",
    "    print(f\"Goal is {goal}.\")\n",
    "    l[\"maze\"].plot(markersize=40)"
   ]
  },
  {
   "cell_type": "code",
   "execution_count": 242,
   "metadata": {
    "ExecuteTime": {
     "end_time": "2020-05-21T07:16:44.196973Z",
     "start_time": "2020-05-21T07:16:44.184979Z"
    }
   },
   "outputs": [],
   "source": [
    "def DecideDirection():\n",
    "    while True:\n",
    "        ans = input(\"where direction?\\n(w|a|s|d)  > \")\n",
    "        if ans not in [\"w\", \"a\", \"s\", \"d\"]: print(\"Invalid input. ReInput.\")\n",
    "        else: return ans\n",
    "\n",
    "def Straight(l):\n",
    "    direction = DecideDirection()\n",
    "    if direction==\"w\": l[\"maze\"].move(\"v\", 2)\n",
    "    if direction==\"a\": l[\"maze\"].move(\"h\", -2)\n",
    "    if direction==\"s\": l[\"maze\"].move(\"v\", -2)\n",
    "    if direction==\"d\": l[\"maze\"].move(\"h\", 2)\n",
    "    l[\"counter\"] += 1\n",
    "\n",
    "def Jump(l):\n",
    "    direction = DecideDirection()\n",
    "    if direction==\"w\": l[\"maze\"].move(\"v\", 1, IsJump=True)\n",
    "    if direction==\"a\": l[\"maze\"].move(\"h\", -1, IsJump=True)\n",
    "    if direction==\"s\": l[\"maze\"].move(\"v\", -1, IsJump=True)\n",
    "    if direction==\"d\": l[\"maze\"].move(\"h\", 1, IsJump=True)\n",
    "    l[\"counter\"] += 1\n",
    "    \n",
    "def DetectReaching(l):\n",
    "    curr_state = l[\"maze\"].get_position()\n",
    "    goal = l[\"maze\"].get_goal()\n",
    "    if curr_state[0]==goal[0] and curr_state[1]==goal[1]:\n",
    "        l[\"IsReached\"]=True\n",
    "    print(f\"Current counter: {l['counter']}\")"
   ]
  },
  {
   "cell_type": "code",
   "execution_count": 243,
   "metadata": {
    "ExecuteTime": {
     "end_time": "2020-05-21T07:16:44.491408Z",
     "start_time": "2020-05-21T07:16:44.474418Z"
    }
   },
   "outputs": [],
   "source": [
    "def MoveSM(l):\n",
    "    sm = TStateMachine()\n",
    "    sm.StartState = \"ask_action_phase\"\n",
    "    sm[\"ask_action_phase\"] = TFSMState()\n",
    "    sm[\"ask_action_phase\"].EntryAction = lambda: AskAction(l)\n",
    "    sm[\"ask_action_phase\"].NewAction()\n",
    "    sm[\"ask_action_phase\"].Actions[-1].Condition = lambda: True if l[\"flag\"]==\"1\" else False\n",
    "    sm[\"ask_action_phase\"].Actions[-1].NextState = \"jump_1step_phase\"\n",
    "    sm[\"ask_action_phase\"].NewAction()\n",
    "    sm[\"ask_action_phase\"].Actions[-1].Condition = lambda: True if l[\"flag\"]==\"2\" else False \n",
    "    sm[\"ask_action_phase\"].Actions[-1].NextState = \"straight_2step_phase\"\n",
    "    \n",
    "    sm[\"jump_1step_phase\"] = TFSMState()\n",
    "    sm[\"jump_1step_phase\"].EntryAction = lambda: [Jump(l), ShowCurrentState(l)]\n",
    "    sm[\"jump_1step_phase\"].ElseAction.Condition = lambda: True\n",
    "    sm[\"jump_1step_phase\"].ElseAction.NextState = \"detect_reaching_phase\"\n",
    "    \n",
    "    sm[\"straight_2step_phase\"] = TFSMState()\n",
    "    sm[\"straight_2step_phase\"].EntryAction = lambda: [Straight(l), ShowCurrentState(l)]\n",
    "    sm[\"straight_2step_phase\"].ElseAction.Condition = lambda: True\n",
    "    sm[\"straight_2step_phase\"].ElseAction.NextState = \"detect_reaching_phase\"\n",
    "    \n",
    "    sm[\"detect_reaching_phase\"] = TFSMState()\n",
    "    sm[\"detect_reaching_phase\"].EntryAction = lambda: DetectReaching(l)\n",
    "    sm[\"detect_reaching_phase\"].ElseAction.Condition = lambda: True\n",
    "    sm[\"detect_reaching_phase\"].ElseAction.NextState = EXIT_STATE\n",
    "    \n",
    "    sm.Run()"
   ]
  },
  {
   "cell_type": "code",
   "execution_count": 244,
   "metadata": {
    "ExecuteTime": {
     "end_time": "2020-05-21T07:16:44.735190Z",
     "start_time": "2020-05-21T07:16:44.722200Z"
    }
   },
   "outputs": [],
   "source": [
    "def RunMaze():\n",
    "    l = defaultdict(lambda: None)\n",
    "\n",
    "    sm = TStateMachine()\n",
    "    sm.StartState = \"start\"\n",
    "    sm[\"start\"] = TFSMState()\n",
    "    sm[\"start\"].EntryAction = lambda: [SetupVariable(l), ShowCurrentState(l)]\n",
    "    sm[\"start\"].ElseAction.Condition = lambda: True\n",
    "    sm[\"start\"].ElseAction.NextState = \"ask_mq\"\n",
    "\n",
    "    sm[\"ask_mq\"] = TFSMState()\n",
    "    sm[\"ask_mq\"].EntryAction = lambda: AskMQ(l)\n",
    "    sm[\"ask_mq\"].NewAction()\n",
    "    sm[\"ask_mq\"].Actions[-1].Condition = lambda: True if l[\"flag\"]==\"y\" else False\n",
    "    sm[\"ask_mq\"].Actions[-1].NextState = \"move\"\n",
    "    sm[\"ask_mq\"].NewAction()\n",
    "    sm[\"ask_mq\"].Actions[-1].Condition = lambda: True if l[\"flag\"]==\"q\" else False\n",
    "    sm[\"ask_mq\"].Actions[-1].Action = lambda: print('Finishing state machine')\n",
    "    sm[\"ask_mq\"].Actions[-1].NextState = EXIT_STATE\n",
    "\n",
    "    sm[\"move\"] = TFSMState()\n",
    "    sm[\"move\"].EntryAction = lambda: MoveSM(l)\n",
    "    sm[\"move\"].NewAction()\n",
    "    sm[\"move\"].Actions[-1].Condition = lambda: False if l[\"IsReached\"] else True\n",
    "    sm[\"move\"].Actions[-1].NextState = \"ask_mq\"\n",
    "    sm[\"move\"].ElseAction.Condition = lambda: True\n",
    "    sm[\"move\"].ElseAction.NextState = \"reached\"\n",
    "\n",
    "    sm[\"reached\"] = TFSMState()\n",
    "    sm[\"reached\"].EntryAction = lambda: print(\"Reached Goal.\")\n",
    "    sm[\"reached\"].ElseAction.Condition = lambda: True\n",
    "    sm[\"reached\"].ElseAction.NextState = EXIT_STATE\n",
    "\n",
    "    sm.Run()"
   ]
  },
  {
   "cell_type": "code",
   "execution_count": 251,
   "metadata": {
    "ExecuteTime": {
     "end_time": "2020-05-21T07:21:20.751931Z",
     "start_time": "2020-05-21T07:20:47.385616Z"
    }
   },
   "outputs": [
    {
     "name": "stdout",
     "output_type": "stream",
     "text": [
      "Current state is (0.5, 3.5).\n",
      "Goal is (2.5, 0.5).\n"
     ]
    },
    {
     "data": {
      "image/png": "[encoded data removed]",
      "text/plain": [
       "<Figure size 360x360 with 1 Axes>"
      ]
     },
     "metadata": {},
     "output_type": "display_data"
    },
    {
     "name": "stdout",
     "output_type": "stream",
     "text": [
      "move or quit?\n",
      "(y|q)  > y\n",
      "jump one step(1)' or 'starate two step(2)'?\n",
      "choise action (1|2)  > 2\n",
      "where direction?\n",
      "(w|a|s|d)  > s\n",
      "Current state is (0.5, 1.5).\n",
      "Goal is (2.5, 0.5).\n"
     ]
    },
    {
     "data": {
      "image/png": "[encoded data removed]",
      "text/plain": [
       "<Figure size 360x360 with 1 Axes>"
      ]
     },
     "metadata": {},
     "output_type": "display_data"
    },
    {
     "name": "stdout",
     "output_type": "stream",
     "text": [
      "Current counter: 1\n",
      "move or quit?\n",
      "(y|q)  > y\n",
      "jump one step(1)' or 'starate two step(2)'?\n",
      "choise action (1|2)  > 2\n",
      "where direction?\n",
      "(w|a|s|d)  > r\n",
      "Invalid input. ReInput.\n",
      "where direction?\n",
      "(w|a|s|d)  > d\n",
      "Current state is (1.5, 1.5).\n",
      "Goal is (2.5, 0.5).\n"
     ]
    },
    {
     "data": {
      "image/png": "[encoded data removed]",
      "text/plain": [
       "<Figure size 360x360 with 1 Axes>"
      ]
     },
     "metadata": {},
     "output_type": "display_data"
    },
    {
     "name": "stdout",
     "output_type": "stream",
     "text": [
      "Current counter: 2\n",
      "move or quit?\n",
      "(y|q)  > y\n",
      "jump one step(1)' or 'starate two step(2)'?\n",
      "choise action (1|2)  > 1\n",
      "where direction?\n",
      "(w|a|s|d)  > d\n",
      "Current state is (2.5, 1.5).\n",
      "Goal is (2.5, 0.5).\n"
     ]
    },
    {
     "data": {
      "image/png": "[encoded data removed]",
      "text/plain": [
       "<Figure size 360x360 with 1 Axes>"
      ]
     },
     "metadata": {},
     "output_type": "display_data"
    },
    {
     "name": "stdout",
     "output_type": "stream",
     "text": [
      "Current counter: 3\n",
      "move or quit?\n",
      "(y|q)  > y\n",
      "jump one step(1)' or 'starate two step(2)'?\n",
      "choise action (1|2)  > 1\n",
      "where direction?\n",
      "(w|a|s|d)  > s\n",
      "Current state is (2.5, 0.5).\n",
      "Goal is (2.5, 0.5).\n"
     ]
    },
    {
     "data": {
      "image/png": "[encoded data removed]",
      "text/plain": [
       "<Figure size 360x360 with 1 Axes>"
      ]
     },
     "metadata": {},
     "output_type": "display_data"
    },
    {
     "name": "stdout",
     "output_type": "stream",
     "text": [
      "Current counter: 4\n",
      "Reached Goal.\n"
     ]
    }
   ],
   "source": [
    "RunMaze()"
   ]
  }
 ],
 "metadata": {
  "kernelspec": {
   "display_name": "Python 3",
   "language": "python",
   "name": "python3"
  },
  "toc": {
   "base_numbering": 1,
   "nav_menu": {},
   "number_sections": true,
   "sideBar": true,
   "skip_h1_title": false,
   "title_cell": "Table of Contents",
   "title_sidebar": "Contents",
   "toc_cell": false,
   "toc_position": {},
   "toc_section_display": true,
   "toc_window_display": false
  },
  "varInspector": {
   "cols": {
    "lenName": 16,
    "lenType": 16,
    "lenVar": 40
   },
   "kernels_config": {
    "python": {
     "delete_cmd_postfix": "",
     "delete_cmd_prefix": "del ",
     "library": "var_list.py",
     "varRefreshCmd": "print(var_dic_list())"
    },
    "r": {
     "delete_cmd_postfix": ") ",
     "delete_cmd_prefix": "rm(",
     "library": "var_list.r",
     "varRefreshCmd": "cat(var_dic_list()) "
    }
   },
   "types_to_exclude": [
    "module",
    "function",
    "builtin_function_or_method",
    "instance",
    "_Feature"
   ],
   "window_display": false
  }
 },
 "nbformat": 4,
 "nbformat_minor": 2
}
