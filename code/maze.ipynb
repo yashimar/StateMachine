{
 "cells": [
  {
   "cell_type": "markdown",
   "metadata": {},
   "source": [
    "# Setup"
   ]
  },
  {
   "cell_type": "code",
   "execution_count": 10,
   "metadata": {
    "ExecuteTime": {
     "end_time": "2020-05-20T01:01:25.714592Z",
     "start_time": "2020-05-20T01:01:25.165328Z"
    }
   },
   "outputs": [],
   "source": [
    "import numpy as np\n",
    "import matplotlib.pyplot as plt\n",
    "\n",
    "import sys\n",
    "sys.path.append(\"../../modules_HKlab/\")\n",
    "from state_machine import *"
   ]
  },
  {
   "cell_type": "markdown",
   "metadata": {},
   "source": [
    "# Maze"
   ]
  },
  {
   "cell_type": "code",
   "execution_count": 54,
   "metadata": {
    "ExecuteTime": {
     "end_time": "2020-05-20T02:39:46.072704Z",
     "start_time": "2020-05-20T02:39:46.068707Z"
    }
   },
   "outputs": [
    {
     "data": {
      "text/plain": [
       "int"
      ]
     },
     "execution_count": 54,
     "metadata": {},
     "output_type": "execute_result"
    }
   ],
   "source": [
    "a = 5\n",
    "type(a)"
   ]
  },
  {
   "cell_type": "code",
   "execution_count": 58,
   "metadata": {
    "ExecuteTime": {
     "end_time": "2020-05-20T02:44:03.482240Z",
     "start_time": "2020-05-20T02:44:03.476244Z"
    }
   },
   "outputs": [],
   "source": [
    "def wall_point(x, y):\n",
    "    if type(x)!=int: return [int(x-0.5), y], [int(x+0.5), y]\n",
    "    elif type(y)!=int: return [x, int(y-0.5)], [x, int(y+0.5)]\n",
    "    else: raise Exception"
   ]
  },
  {
   "cell_type": "code",
   "execution_count": 59,
   "metadata": {
    "ExecuteTime": {
     "end_time": "2020-05-20T02:44:03.923045Z",
     "start_time": "2020-05-20T02:44:03.918047Z"
    }
   },
   "outputs": [
    {
     "data": {
      "text/plain": [
       "([0, 1], [1, 1])"
      ]
     },
     "execution_count": 59,
     "metadata": {},
     "output_type": "execute_result"
    }
   ],
   "source": [
    "wall_point(0.5, 1)"
   ]
  },
  {
   "cell_type": "code",
   "execution_count": 60,
   "metadata": {
    "ExecuteTime": {
     "end_time": "2020-05-20T02:44:44.004775Z",
     "start_time": "2020-05-20T02:44:43.986784Z"
    }
   },
   "outputs": [],
   "source": [
    "class Maze():\n",
    "    def __init__(self, curr_x, curr_y, goal_x=2, goal_y=0):\n",
    "        self.curr_x = curr_x\n",
    "        self.curr_y = curr_y\n",
    "        self.goal_x = goal_x\n",
    "        self.goal_y = goal_y\n",
    "        \n",
    "    def detct_collision(self, add_x, add_y):\n",
    "        next_x = self.curr_x + add_x\n",
    "        next_y = self.curr_y + add_y\n",
    "        \n",
    "        \n",
    "    def plot(self):\n",
    "        fig = plt.figure(figsize=(5, 5))\n",
    "        ax = plt.gca()\n",
    "\n",
    "        plt.plot([1, 1], [0, 1], color='red', linewidth=2)\n",
    "        plt.plot([1, 2], [2, 2], color='red', linewidth=2)\n",
    "        plt.plot([2, 2], [2, 1], color='red', linewidth=2)\n",
    "        plt.plot([2, 3], [1, 1], color='red', linewidth=2)\n",
    "\n",
    "        plt.text(0.5, 2.5, 'S0', size=14, ha='center')\n",
    "        plt.text(1.5, 2.5, 'S1', size=14, ha='center')\n",
    "        plt.text(2.5, 2.5, 'S2', size=14, ha='center')\n",
    "        plt.text(0.5, 1.5, 'S3', size=14, ha='center')\n",
    "        plt.text(1.5, 1.5, 'S4', size=14, ha='center')\n",
    "        plt.text(2.5, 1.5, 'S5', size=14, ha='center')\n",
    "        plt.text(0.5, 0.5, 'S6', size=14, ha='center')\n",
    "        plt.text(1.5, 0.5, 'S7', size=14, ha='center')\n",
    "        plt.text(2.5, 0.5, 'S8', size=14, ha='center')\n",
    "        plt.text(self.curr_x+0.5, self.curr_y+0.3, 'START', ha='center')\n",
    "        plt.text(self.goal_x+0.5, self.goal_y+0.3, 'GOAL', ha='center')\n",
    "\n",
    "        ax.set_xlim(0, 3)\n",
    "        ax.set_ylim(0, 3)\n",
    "        plt.tick_params(axis='both', which='both', bottom=False, top=False,\n",
    "                        labelbottom=False, right=False, left=False, labelleft=False)\n",
    "\n",
    "        line, = ax.plot([self.curr_x+0.5], [self.curr_y+0.5], marker=\"o\", color='g', markersize=60)\n",
    "        plt.show()"
   ]
  },
  {
   "cell_type": "code",
   "execution_count": 62,
   "metadata": {
    "ExecuteTime": {
     "end_time": "2020-05-20T02:54:58.537918Z",
     "start_time": "2020-05-20T02:54:58.313054Z"
    }
   },
   "outputs": [
    {
     "data": {
      "image/png": "[encoded data removed]",
      "text/plain": [
       "<Figure size 360x360 with 1 Axes>"
      ]
     },
     "metadata": {},
     "output_type": "display_data"
    }
   ],
   "source": [
    "maze = Maze(curr_x=0, curr_y=2)\n",
    "maze.plot()"
   ]
  }
 ],
 "metadata": {
  "kernelspec": {
   "display_name": "Python 3",
   "language": "python",
   "name": "python3"
  },
  "language_info": {
   "codemirror_mode": {
    "name": "ipython",
    "version": 3
   },
   "file_extension": ".py",
   "mimetype": "text/x-python",
   "name": "python",
   "nbconvert_exporter": "python",
   "pygments_lexer": "ipython3",
   "version": "3.6.8"
  },
  "toc": {
   "base_numbering": 1,
   "nav_menu": {},
   "number_sections": true,
   "sideBar": true,
   "skip_h1_title": false,
   "title_cell": "Table of Contents",
   "title_sidebar": "Contents",
   "toc_cell": false,
   "toc_position": {},
   "toc_section_display": true,
   "toc_window_display": false
  },
  "varInspector": {
   "cols": {
    "lenName": 16,
    "lenType": 16,
    "lenVar": 40
   },
   "kernels_config": {
    "python": {
     "delete_cmd_postfix": "",
     "delete_cmd_prefix": "del ",
     "library": "var_list.py",
     "varRefreshCmd": "print(var_dic_list())"
    },
    "r": {
     "delete_cmd_postfix": ") ",
     "delete_cmd_prefix": "rm(",
     "library": "var_list.r",
     "varRefreshCmd": "cat(var_dic_list()) "
    }
   },
   "types_to_exclude": [
    "module",
    "function",
    "builtin_function_or_method",
    "instance",
    "_Feature"
   ],
   "window_display": false
  }
 },
 "nbformat": 4,
 "nbformat_minor": 2
}
